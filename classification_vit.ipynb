{
 "cells": [
  {
   "cell_type": "code",
   "id": "initial_id",
   "metadata": {
    "collapsed": true,
    "ExecuteTime": {
     "end_time": "2025-04-11T20:51:11.873769Z",
     "start_time": "2025-04-11T20:51:11.211528Z"
    }
   },
   "source": [
    "from transformers import pipeline\n",
    "from PIL import Image\n",
    "\n",
    "pipe = pipeline(\"image-classification\", model=\"dima806/traffic_sign_detection\")\n",
    "\n"
   ],
   "outputs": [
    {
     "name": "stderr",
     "output_type": "stream",
     "text": [
      "Using a slow image processor as `use_fast` is unset and a slow processor was saved with this model. `use_fast=True` will be the default behavior in v4.52, even if the model was saved with a slow processor. This will result in minor differences in outputs. You'll still be able to use a slow processor with `use_fast=False`.\n",
      "Device set to use mps:0\n"
     ]
    }
   ],
   "execution_count": 4
  },
  {
   "metadata": {
    "ExecuteTime": {
     "end_time": "2025-04-11T20:51:15.255419Z",
     "start_time": "2025-04-11T20:51:15.115075Z"
    }
   },
   "cell_type": "code",
   "source": [
    "image_path = 'dataset_split/test/0/000_0055.png'\n",
    "img = Image.open(image_path)\n",
    "\n",
    "predictions = pipe(img)\n",
    "\n",
    "print(predictions)"
   ],
   "id": "4a0d59dfd2ae64be",
   "outputs": [
    {
     "name": "stdout",
     "output_type": "stream",
     "text": [
      "[{'label': 'Speed limit (5km/h)', 'score': 0.1104646846652031}, {'label': 'Speed limit (15km/h)', 'score': 0.05031971633434296}, {'label': 'No Uturn', 'score': 0.03494208678603172}, {'label': 'Dont Go Left', 'score': 0.0326455794274807}, {'label': 'Speed limit (50km/h)', 'score': 0.03138498216867447}]\n"
     ]
    }
   ],
   "execution_count": 5
  },
  {
   "metadata": {},
   "cell_type": "code",
   "outputs": [],
   "execution_count": null,
   "source": "",
   "id": "c8feb2d52069635e"
  }
 ],
 "metadata": {
  "kernelspec": {
   "display_name": "Python 3",
   "language": "python",
   "name": "python3"
  },
  "language_info": {
   "codemirror_mode": {
    "name": "ipython",
    "version": 2
   },
   "file_extension": ".py",
   "mimetype": "text/x-python",
   "name": "python",
   "nbconvert_exporter": "python",
   "pygments_lexer": "ipython2",
   "version": "2.7.6"
  }
 },
 "nbformat": 4,
 "nbformat_minor": 5
}
