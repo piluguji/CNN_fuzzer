{
 "cells": [
  {
   "cell_type": "code",
   "execution_count": 6,
   "metadata": {},
   "outputs": [
    {
     "name": "stderr",
     "output_type": "stream",
     "text": [
      "<>:8: SyntaxWarning: invalid escape sequence '\\i'\n",
      "<>:8: SyntaxWarning: invalid escape sequence '\\i'\n",
      "C:\\Users\\pilug\\AppData\\Local\\Temp\\ipykernel_1460\\613936025.py:8: SyntaxWarning: invalid escape sequence '\\i'\n",
      "  image_folder = \"archive\\images\"  # Folder containing all images\n"
     ]
    },
    {
     "name": "stdout",
     "output_type": "stream",
     "text": [
      "Dataset split completed!\n"
     ]
    }
   ],
   "source": [
    "import os\n",
    "import shutil\n",
    "import random\n",
    "from collections import defaultdict\n",
    "from sklearn.model_selection import train_test_split\n",
    "\n",
    "# Set paths\n",
    "image_folder = \"archive\\images\"  # Folder containing all images\n",
    "output_folder = \"dataset_split\"  # Where train/test images will be saved\n",
    "\n",
    "# Create train/test directories\n",
    "train_dir = os.path.join(output_folder, \"train\")\n",
    "test_dir = os.path.join(output_folder, \"test\")\n",
    "os.makedirs(train_dir, exist_ok=True)\n",
    "os.makedirs(test_dir, exist_ok=True)\n",
    "\n",
    "# Step 1: Group images by class\n",
    "class_images = defaultdict(list)\n",
    "\n",
    "for filename in os.listdir(image_folder):\n",
    "    if filename.endswith(\".png\"):\n",
    "        class_label = int(filename.split(\"_\")[0])  # Extract class name before '_'\n",
    "        class_images[class_label].append(filename)\n",
    "\n",
    "# Step 2: Split each class into train & test\n",
    "train_ratio = 0.8  # 80% training, 20% testing\n",
    "\n",
    "for cl, images in class_images.items():\n",
    "    train_images, test_images = train_test_split(images, train_size=train_ratio, random_state=42, stratify=None)\n",
    "\n",
    "    class_label = str(cl)  # Convert class label to string for folder naming\n",
    "    # Create class-specific subfolders\n",
    "    os.makedirs(os.path.join(train_dir, class_label), exist_ok=True)\n",
    "    os.makedirs(os.path.join(test_dir, class_label), exist_ok=True)\n",
    "\n",
    "    # Move images to respective folders\n",
    "    for img in train_images:\n",
    "        shutil.copy(os.path.join(image_folder, img), os.path.join(train_dir, class_label, img))\n",
    "\n",
    "    for img in test_images:\n",
    "        shutil.copy(os.path.join(image_folder, img), os.path.join(test_dir, class_label, img))\n",
    "\n",
    "print(\"Dataset split completed!\")"
   ]
  }
 ],
 "metadata": {
  "kernelspec": {
   "display_name": ".venv",
   "language": "python",
   "name": "python3"
  },
  "language_info": {
   "codemirror_mode": {
    "name": "ipython",
    "version": 3
   },
   "file_extension": ".py",
   "mimetype": "text/x-python",
   "name": "python",
   "nbconvert_exporter": "python",
   "pygments_lexer": "ipython3",
   "version": "3.13.2"
  }
 },
 "nbformat": 4,
 "nbformat_minor": 2
}
